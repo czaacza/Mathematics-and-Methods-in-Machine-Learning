{
 "cells": [
  {
   "cell_type": "markdown",
   "metadata": {},
   "source": [
    "# Stack loss demo\n",
    "\n",
    "The data set was originally published in:\n",
    "Brownlee, K. A. (1960, 2nd ed. 1965) Statistical Theory and Methodology in Science and Engineering.\n",
    "New York: Wiley. pp. 491–500.\n",
    "    "
   ]
  },
  {
   "cell_type": "code",
   "execution_count": 1,
   "metadata": {},
   "outputs": [],
   "source": [
    "import numpy as np\n",
    "import pandas as pd\n",
    "from sklearn import linear_model\n",
    "from sklearn.metrics import mean_squared_error, r2_score\n",
    "from sklearn.preprocessing import StandardScaler\n",
    "import matplotlib.pyplot as plt"
   ]
  },
  {
   "cell_type": "markdown",
   "metadata": {},
   "source": [
    "We'll start by reading the input file into a data frame:"
   ]
  },
  {
   "cell_type": "code",
   "execution_count": 2,
   "metadata": {},
   "outputs": [
    {
     "data": {
      "text/html": [
       "<div>\n",
       "<style scoped>\n",
       "    .dataframe tbody tr th:only-of-type {\n",
       "        vertical-align: middle;\n",
       "    }\n",
       "\n",
       "    .dataframe tbody tr th {\n",
       "        vertical-align: top;\n",
       "    }\n",
       "\n",
       "    .dataframe thead th {\n",
       "        text-align: right;\n",
       "    }\n",
       "</style>\n",
       "<table border=\"1\" class=\"dataframe\">\n",
       "  <thead>\n",
       "    <tr style=\"text-align: right;\">\n",
       "      <th></th>\n",
       "      <th>Id</th>\n",
       "      <th>Air.Flow</th>\n",
       "      <th>Water.Temp</th>\n",
       "      <th>Acid.Conc.</th>\n",
       "      <th>stack.loss</th>\n",
       "    </tr>\n",
       "  </thead>\n",
       "  <tbody>\n",
       "    <tr>\n",
       "      <th>0</th>\n",
       "      <td>1</td>\n",
       "      <td>80</td>\n",
       "      <td>27</td>\n",
       "      <td>89</td>\n",
       "      <td>42</td>\n",
       "    </tr>\n",
       "    <tr>\n",
       "      <th>1</th>\n",
       "      <td>2</td>\n",
       "      <td>80</td>\n",
       "      <td>27</td>\n",
       "      <td>88</td>\n",
       "      <td>37</td>\n",
       "    </tr>\n",
       "    <tr>\n",
       "      <th>2</th>\n",
       "      <td>3</td>\n",
       "      <td>75</td>\n",
       "      <td>25</td>\n",
       "      <td>90</td>\n",
       "      <td>37</td>\n",
       "    </tr>\n",
       "    <tr>\n",
       "      <th>3</th>\n",
       "      <td>4</td>\n",
       "      <td>62</td>\n",
       "      <td>24</td>\n",
       "      <td>87</td>\n",
       "      <td>28</td>\n",
       "    </tr>\n",
       "    <tr>\n",
       "      <th>4</th>\n",
       "      <td>5</td>\n",
       "      <td>62</td>\n",
       "      <td>22</td>\n",
       "      <td>87</td>\n",
       "      <td>18</td>\n",
       "    </tr>\n",
       "    <tr>\n",
       "      <th>5</th>\n",
       "      <td>6</td>\n",
       "      <td>62</td>\n",
       "      <td>23</td>\n",
       "      <td>87</td>\n",
       "      <td>18</td>\n",
       "    </tr>\n",
       "    <tr>\n",
       "      <th>6</th>\n",
       "      <td>7</td>\n",
       "      <td>62</td>\n",
       "      <td>24</td>\n",
       "      <td>93</td>\n",
       "      <td>19</td>\n",
       "    </tr>\n",
       "    <tr>\n",
       "      <th>7</th>\n",
       "      <td>8</td>\n",
       "      <td>62</td>\n",
       "      <td>24</td>\n",
       "      <td>93</td>\n",
       "      <td>20</td>\n",
       "    </tr>\n",
       "    <tr>\n",
       "      <th>8</th>\n",
       "      <td>9</td>\n",
       "      <td>58</td>\n",
       "      <td>23</td>\n",
       "      <td>87</td>\n",
       "      <td>15</td>\n",
       "    </tr>\n",
       "    <tr>\n",
       "      <th>9</th>\n",
       "      <td>10</td>\n",
       "      <td>58</td>\n",
       "      <td>18</td>\n",
       "      <td>80</td>\n",
       "      <td>14</td>\n",
       "    </tr>\n",
       "    <tr>\n",
       "      <th>10</th>\n",
       "      <td>11</td>\n",
       "      <td>58</td>\n",
       "      <td>18</td>\n",
       "      <td>89</td>\n",
       "      <td>14</td>\n",
       "    </tr>\n",
       "    <tr>\n",
       "      <th>11</th>\n",
       "      <td>12</td>\n",
       "      <td>58</td>\n",
       "      <td>17</td>\n",
       "      <td>88</td>\n",
       "      <td>13</td>\n",
       "    </tr>\n",
       "    <tr>\n",
       "      <th>12</th>\n",
       "      <td>13</td>\n",
       "      <td>58</td>\n",
       "      <td>18</td>\n",
       "      <td>82</td>\n",
       "      <td>11</td>\n",
       "    </tr>\n",
       "    <tr>\n",
       "      <th>13</th>\n",
       "      <td>14</td>\n",
       "      <td>58</td>\n",
       "      <td>19</td>\n",
       "      <td>93</td>\n",
       "      <td>12</td>\n",
       "    </tr>\n",
       "    <tr>\n",
       "      <th>14</th>\n",
       "      <td>15</td>\n",
       "      <td>50</td>\n",
       "      <td>18</td>\n",
       "      <td>89</td>\n",
       "      <td>8</td>\n",
       "    </tr>\n",
       "    <tr>\n",
       "      <th>15</th>\n",
       "      <td>16</td>\n",
       "      <td>50</td>\n",
       "      <td>18</td>\n",
       "      <td>86</td>\n",
       "      <td>7</td>\n",
       "    </tr>\n",
       "    <tr>\n",
       "      <th>16</th>\n",
       "      <td>17</td>\n",
       "      <td>50</td>\n",
       "      <td>19</td>\n",
       "      <td>72</td>\n",
       "      <td>8</td>\n",
       "    </tr>\n",
       "    <tr>\n",
       "      <th>17</th>\n",
       "      <td>18</td>\n",
       "      <td>50</td>\n",
       "      <td>19</td>\n",
       "      <td>79</td>\n",
       "      <td>8</td>\n",
       "    </tr>\n",
       "    <tr>\n",
       "      <th>18</th>\n",
       "      <td>19</td>\n",
       "      <td>50</td>\n",
       "      <td>20</td>\n",
       "      <td>80</td>\n",
       "      <td>9</td>\n",
       "    </tr>\n",
       "    <tr>\n",
       "      <th>19</th>\n",
       "      <td>20</td>\n",
       "      <td>56</td>\n",
       "      <td>20</td>\n",
       "      <td>82</td>\n",
       "      <td>15</td>\n",
       "    </tr>\n",
       "    <tr>\n",
       "      <th>20</th>\n",
       "      <td>21</td>\n",
       "      <td>70</td>\n",
       "      <td>20</td>\n",
       "      <td>91</td>\n",
       "      <td>15</td>\n",
       "    </tr>\n",
       "  </tbody>\n",
       "</table>\n",
       "</div>"
      ],
      "text/plain": [
       "    Id  Air.Flow  Water.Temp  Acid.Conc.  stack.loss\n",
       "0    1        80          27          89          42\n",
       "1    2        80          27          88          37\n",
       "2    3        75          25          90          37\n",
       "3    4        62          24          87          28\n",
       "4    5        62          22          87          18\n",
       "5    6        62          23          87          18\n",
       "6    7        62          24          93          19\n",
       "7    8        62          24          93          20\n",
       "8    9        58          23          87          15\n",
       "9   10        58          18          80          14\n",
       "10  11        58          18          89          14\n",
       "11  12        58          17          88          13\n",
       "12  13        58          18          82          11\n",
       "13  14        58          19          93          12\n",
       "14  15        50          18          89           8\n",
       "15  16        50          18          86           7\n",
       "16  17        50          19          72           8\n",
       "17  18        50          19          79           8\n",
       "18  19        50          20          80           9\n",
       "19  20        56          20          82          15\n",
       "20  21        70          20          91          15"
      ]
     },
     "execution_count": 2,
     "metadata": {},
     "output_type": "execute_result"
    }
   ],
   "source": [
    "df = pd.read_csv('stackloss.csv', sep=';')\n",
    "df"
   ]
  },
  {
   "cell_type": "markdown",
   "metadata": {},
   "source": [
    "The ID column is dropped from the data frame:"
   ]
  },
  {
   "cell_type": "code",
   "execution_count": 3,
   "metadata": {},
   "outputs": [],
   "source": [
    "# drop id\n",
    "df.drop(['Id'], axis=1, inplace=True)"
   ]
  },
  {
   "cell_type": "markdown",
   "metadata": {},
   "source": [
    "The remaining columns are by default interpreted as integers. Let's convert them to floating point numbers to avoid some warnings in the future:"
   ]
  },
  {
   "cell_type": "code",
   "execution_count": 4,
   "metadata": {},
   "outputs": [
    {
     "data": {
      "text/html": [
       "<div>\n",
       "<style scoped>\n",
       "    .dataframe tbody tr th:only-of-type {\n",
       "        vertical-align: middle;\n",
       "    }\n",
       "\n",
       "    .dataframe tbody tr th {\n",
       "        vertical-align: top;\n",
       "    }\n",
       "\n",
       "    .dataframe thead th {\n",
       "        text-align: right;\n",
       "    }\n",
       "</style>\n",
       "<table border=\"1\" class=\"dataframe\">\n",
       "  <thead>\n",
       "    <tr style=\"text-align: right;\">\n",
       "      <th></th>\n",
       "      <th>Air.Flow</th>\n",
       "      <th>Water.Temp</th>\n",
       "      <th>Acid.Conc.</th>\n",
       "      <th>stack.loss</th>\n",
       "    </tr>\n",
       "  </thead>\n",
       "  <tbody>\n",
       "    <tr>\n",
       "      <th>0</th>\n",
       "      <td>80.0</td>\n",
       "      <td>27.0</td>\n",
       "      <td>89.0</td>\n",
       "      <td>42.0</td>\n",
       "    </tr>\n",
       "    <tr>\n",
       "      <th>1</th>\n",
       "      <td>80.0</td>\n",
       "      <td>27.0</td>\n",
       "      <td>88.0</td>\n",
       "      <td>37.0</td>\n",
       "    </tr>\n",
       "    <tr>\n",
       "      <th>2</th>\n",
       "      <td>75.0</td>\n",
       "      <td>25.0</td>\n",
       "      <td>90.0</td>\n",
       "      <td>37.0</td>\n",
       "    </tr>\n",
       "    <tr>\n",
       "      <th>3</th>\n",
       "      <td>62.0</td>\n",
       "      <td>24.0</td>\n",
       "      <td>87.0</td>\n",
       "      <td>28.0</td>\n",
       "    </tr>\n",
       "    <tr>\n",
       "      <th>4</th>\n",
       "      <td>62.0</td>\n",
       "      <td>22.0</td>\n",
       "      <td>87.0</td>\n",
       "      <td>18.0</td>\n",
       "    </tr>\n",
       "    <tr>\n",
       "      <th>5</th>\n",
       "      <td>62.0</td>\n",
       "      <td>23.0</td>\n",
       "      <td>87.0</td>\n",
       "      <td>18.0</td>\n",
       "    </tr>\n",
       "    <tr>\n",
       "      <th>6</th>\n",
       "      <td>62.0</td>\n",
       "      <td>24.0</td>\n",
       "      <td>93.0</td>\n",
       "      <td>19.0</td>\n",
       "    </tr>\n",
       "    <tr>\n",
       "      <th>7</th>\n",
       "      <td>62.0</td>\n",
       "      <td>24.0</td>\n",
       "      <td>93.0</td>\n",
       "      <td>20.0</td>\n",
       "    </tr>\n",
       "    <tr>\n",
       "      <th>8</th>\n",
       "      <td>58.0</td>\n",
       "      <td>23.0</td>\n",
       "      <td>87.0</td>\n",
       "      <td>15.0</td>\n",
       "    </tr>\n",
       "    <tr>\n",
       "      <th>9</th>\n",
       "      <td>58.0</td>\n",
       "      <td>18.0</td>\n",
       "      <td>80.0</td>\n",
       "      <td>14.0</td>\n",
       "    </tr>\n",
       "    <tr>\n",
       "      <th>10</th>\n",
       "      <td>58.0</td>\n",
       "      <td>18.0</td>\n",
       "      <td>89.0</td>\n",
       "      <td>14.0</td>\n",
       "    </tr>\n",
       "    <tr>\n",
       "      <th>11</th>\n",
       "      <td>58.0</td>\n",
       "      <td>17.0</td>\n",
       "      <td>88.0</td>\n",
       "      <td>13.0</td>\n",
       "    </tr>\n",
       "    <tr>\n",
       "      <th>12</th>\n",
       "      <td>58.0</td>\n",
       "      <td>18.0</td>\n",
       "      <td>82.0</td>\n",
       "      <td>11.0</td>\n",
       "    </tr>\n",
       "    <tr>\n",
       "      <th>13</th>\n",
       "      <td>58.0</td>\n",
       "      <td>19.0</td>\n",
       "      <td>93.0</td>\n",
       "      <td>12.0</td>\n",
       "    </tr>\n",
       "    <tr>\n",
       "      <th>14</th>\n",
       "      <td>50.0</td>\n",
       "      <td>18.0</td>\n",
       "      <td>89.0</td>\n",
       "      <td>8.0</td>\n",
       "    </tr>\n",
       "    <tr>\n",
       "      <th>15</th>\n",
       "      <td>50.0</td>\n",
       "      <td>18.0</td>\n",
       "      <td>86.0</td>\n",
       "      <td>7.0</td>\n",
       "    </tr>\n",
       "    <tr>\n",
       "      <th>16</th>\n",
       "      <td>50.0</td>\n",
       "      <td>19.0</td>\n",
       "      <td>72.0</td>\n",
       "      <td>8.0</td>\n",
       "    </tr>\n",
       "    <tr>\n",
       "      <th>17</th>\n",
       "      <td>50.0</td>\n",
       "      <td>19.0</td>\n",
       "      <td>79.0</td>\n",
       "      <td>8.0</td>\n",
       "    </tr>\n",
       "    <tr>\n",
       "      <th>18</th>\n",
       "      <td>50.0</td>\n",
       "      <td>20.0</td>\n",
       "      <td>80.0</td>\n",
       "      <td>9.0</td>\n",
       "    </tr>\n",
       "    <tr>\n",
       "      <th>19</th>\n",
       "      <td>56.0</td>\n",
       "      <td>20.0</td>\n",
       "      <td>82.0</td>\n",
       "      <td>15.0</td>\n",
       "    </tr>\n",
       "    <tr>\n",
       "      <th>20</th>\n",
       "      <td>70.0</td>\n",
       "      <td>20.0</td>\n",
       "      <td>91.0</td>\n",
       "      <td>15.0</td>\n",
       "    </tr>\n",
       "  </tbody>\n",
       "</table>\n",
       "</div>"
      ],
      "text/plain": [
       "    Air.Flow  Water.Temp  Acid.Conc.  stack.loss\n",
       "0       80.0        27.0        89.0        42.0\n",
       "1       80.0        27.0        88.0        37.0\n",
       "2       75.0        25.0        90.0        37.0\n",
       "3       62.0        24.0        87.0        28.0\n",
       "4       62.0        22.0        87.0        18.0\n",
       "5       62.0        23.0        87.0        18.0\n",
       "6       62.0        24.0        93.0        19.0\n",
       "7       62.0        24.0        93.0        20.0\n",
       "8       58.0        23.0        87.0        15.0\n",
       "9       58.0        18.0        80.0        14.0\n",
       "10      58.0        18.0        89.0        14.0\n",
       "11      58.0        17.0        88.0        13.0\n",
       "12      58.0        18.0        82.0        11.0\n",
       "13      58.0        19.0        93.0        12.0\n",
       "14      50.0        18.0        89.0         8.0\n",
       "15      50.0        18.0        86.0         7.0\n",
       "16      50.0        19.0        72.0         8.0\n",
       "17      50.0        19.0        79.0         8.0\n",
       "18      50.0        20.0        80.0         9.0\n",
       "19      56.0        20.0        82.0        15.0\n",
       "20      70.0        20.0        91.0        15.0"
      ]
     },
     "execution_count": 4,
     "metadata": {},
     "output_type": "execute_result"
    }
   ],
   "source": [
    "for col in ['Air.Flow', 'Water.Temp', 'Acid.Conc.', 'stack.loss']:\n",
    "    df[col] = df[col].astype(dtype = 'float64')\n",
    "    \n",
    "df"
   ]
  },
  {
   "cell_type": "markdown",
   "metadata": {},
   "source": [
    "Let's split the data set into explanatory variables (columns 0 to 2) and a response variable (column 3):"
   ]
  },
  {
   "cell_type": "code",
   "execution_count": 5,
   "metadata": {},
   "outputs": [],
   "source": [
    "X = df.iloc[:,0:3]\n",
    "Y = df.iloc[:,3]"
   ]
  },
  {
   "cell_type": "markdown",
   "metadata": {},
   "source": [
    "Build and train the model, and output model info:"
   ]
  },
  {
   "cell_type": "code",
   "execution_count": 6,
   "metadata": {},
   "outputs": [
    {
     "name": "stdout",
     "output_type": "stream",
     "text": [
      "Coefficients: [ 0.7156402   1.29528612 -0.15212252]\n",
      "Intercept: -39.91967442012402\n"
     ]
    }
   ],
   "source": [
    "reg = linear_model.LinearRegression()\n",
    "reg.fit(X,Y)\n",
    "\n",
    "print(\"Coefficients:\" ,reg.coef_)\n",
    "print(\"Intercept:\", reg.intercept_)"
   ]
  },
  {
   "cell_type": "markdown",
   "metadata": {},
   "source": [
    "Compute predicted values:"
   ]
  },
  {
   "cell_type": "code",
   "execution_count": 7,
   "metadata": {},
   "outputs": [
    {
     "data": {
      "text/plain": [
       "array([38.76536277, 38.91748529, 32.444467  , 22.30222583, 19.71165358,\n",
       "       21.0069397 , 21.38949071, 21.38949071, 18.1443789 , 12.73280592,\n",
       "       11.36370324, 10.22053964, 12.42856088, 12.05049929,  5.63858164,\n",
       "        6.0949492 ,  9.51995059,  8.45509295,  9.59825656, 13.58785272,\n",
       "       22.23771286])"
      ]
     },
     "execution_count": 7,
     "metadata": {},
     "output_type": "execute_result"
    }
   ],
   "source": [
    "Y_pred = reg.predict(X)\n",
    "Y_pred"
   ]
  },
  {
   "cell_type": "markdown",
   "metadata": {},
   "source": [
    "Compute error statistics:"
   ]
  },
  {
   "cell_type": "code",
   "execution_count": 8,
   "metadata": {},
   "outputs": [
    {
     "name": "stdout",
     "output_type": "stream",
     "text": [
      "MSE =  8.515712457064694\n",
      "R2s =  0.9135769044606818\n"
     ]
    }
   ],
   "source": [
    "mse = mean_squared_error(Y, Y_pred)\n",
    "r2s = r2_score(Y, Y_pred) \n",
    "print(\"MSE = \", mse)\n",
    "print(\"R2s = \", r2s)"
   ]
  },
  {
   "cell_type": "markdown",
   "metadata": {},
   "source": [
    "We observe a high r2 score. The model seems to fit the observed data well.\n",
    "\n",
    "Merge observed and predicted values and compute residuals:"
   ]
  },
  {
   "cell_type": "code",
   "execution_count": 9,
   "metadata": {},
   "outputs": [
    {
     "name": "stdout",
     "output_type": "stream",
     "text": [
      "    observed  predicted  residual\n",
      "0       42.0  38.765363  3.234637\n",
      "1       37.0  38.917485 -1.917485\n",
      "2       37.0  32.444467  4.555533\n",
      "3       28.0  22.302226  5.697774\n",
      "4       18.0  19.711654 -1.711654\n",
      "5       18.0  21.006940 -3.006940\n",
      "6       19.0  21.389491 -2.389491\n",
      "7       20.0  21.389491 -1.389491\n",
      "8       15.0  18.144379 -3.144379\n",
      "9       14.0  12.732806  1.267194\n",
      "10      14.0  11.363703  2.636297\n",
      "11      13.0  10.220540  2.779460\n",
      "12      11.0  12.428561 -1.428561\n",
      "13      12.0  12.050499 -0.050499\n",
      "14       8.0   5.638582  2.361418\n",
      "15       7.0   6.094949  0.905051\n",
      "16       8.0   9.519951 -1.519951\n",
      "17       8.0   8.455093 -0.455093\n",
      "18       9.0   9.598257 -0.598257\n",
      "19      15.0  13.587853  1.412147\n",
      "20      15.0  22.237713 -7.237713\n"
     ]
    }
   ],
   "source": [
    "df2 = pd.concat([Y, pd.Series(Y_pred), pd.Series(Y-Y_pred)], axis=1)\n",
    "df2.columns=['observed','predicted','residual']\n",
    "print(df2)"
   ]
  },
  {
   "cell_type": "markdown",
   "metadata": {},
   "source": [
    "Plot observed vs predicted values:"
   ]
  },
  {
   "cell_type": "code",
   "execution_count": 10,
   "metadata": {},
   "outputs": [
    {
     "data": {
      "text/plain": [
       "<Figure size 640x480 with 0 Axes>"
      ]
     },
     "metadata": {},
     "output_type": "display_data"
    },
    {
     "data": {
      "image/png": "[encoded data removed]",
      "text/plain": [
       "<Figure size 640x480 with 1 Axes>"
      ]
     },
     "metadata": {},
     "output_type": "display_data"
    }
   ],
   "source": [
    "plt.figure()\n",
    "df2.plot.scatter(x='observed', y='predicted')\n",
    "plt.plot(Y_pred, Y_pred, color='blue', linewidth=1)\n",
    "plt.show()"
   ]
  },
  {
   "cell_type": "markdown",
   "metadata": {},
   "source": [
    "Plot residuals:"
   ]
  },
  {
   "cell_type": "code",
   "execution_count": 11,
   "metadata": {},
   "outputs": [
    {
     "data": {
      "text/plain": [
       "<Figure size 640x480 with 0 Axes>"
      ]
     },
     "metadata": {},
     "output_type": "display_data"
    },
    {
     "data": {
      "image/png": "[encoded data removed]",
      "text/plain": [
       "<Figure size 640x480 with 1 Axes>"
      ]
     },
     "metadata": {},
     "output_type": "display_data"
    }
   ],
   "source": [
    "plt.figure()\n",
    "df2.plot.scatter(x='observed', y='residual')\n",
    "plt.plot([0,45], [0,0], color='black', linewidth=1)\n",
    "plt.show()"
   ]
  },
  {
   "cell_type": "markdown",
   "metadata": {},
   "source": [
    "The residuals seem symmetric, with no obvious change in variance.\n",
    "\n",
    "Now, normalize variables and rerun MLR analysis to estimate variable importance:"
   ]
  },
  {
   "cell_type": "code",
   "execution_count": 12,
   "metadata": {},
   "outputs": [
    {
     "name": "stdout",
     "output_type": "stream",
     "text": [
      "           0         1         2         3\n",
      "0   2.187408  1.914273  0.519040  2.465745\n",
      "1   2.187408  1.914273  0.327815  1.962043\n",
      "2   1.628581  1.265890  0.710266  1.962043\n",
      "3   0.175631  0.941699  0.136590  1.055377\n",
      "4   0.175631  0.293316  0.136590  0.047972\n",
      "5   0.175631  0.617508  0.136590  0.047972\n",
      "6   0.175631  0.941699  1.283942  0.148712\n",
      "7   0.175631  0.941699  1.283942  0.249453\n",
      "8  -0.271430  0.617508  0.136590 -0.254250\n",
      "9  -0.271430 -1.003450 -1.201988 -0.354991\n",
      "10 -0.271430 -1.003450  0.519040 -0.354991\n",
      "11 -0.271430 -1.327641  0.327815 -0.455731\n",
      "12 -0.271430 -1.003450 -0.819538 -0.657212\n",
      "13 -0.271430 -0.679258  1.283942 -0.556472\n",
      "14 -1.165553 -1.003450  0.519040 -0.959434\n",
      "15 -1.165553 -1.003450 -0.054636 -1.060175\n",
      "16 -1.165553 -0.679258 -2.731792 -0.959434\n",
      "17 -1.165553 -0.679258 -1.393214 -0.959434\n",
      "18 -1.165553 -0.355067 -1.201988 -0.858693\n",
      "19 -0.494961 -0.355067 -0.819538 -0.254250\n",
      "20  1.069754 -0.355067  0.901491 -0.254250\n",
      "Standardized variables...\n",
      "Coefficients: [ 0.64504766  0.40250249 -0.08014054]\n",
      "Intercept: -1.5639539059744102e-16\n"
     ]
    }
   ],
   "source": [
    "scaler = StandardScaler()\n",
    "dfn = pd.DataFrame(scaler.fit_transform(df))\n",
    "print(dfn)\n",
    "Xn = dfn.iloc[:,0:3]\n",
    "Yn = dfn.iloc[:,3]\n",
    "reg2 = linear_model.LinearRegression()\n",
    "reg2.fit(Xn,Yn)\n",
    "print(\"Standardized variables...\")\n",
    "print(\"Coefficients:\" ,reg2.coef_)\n",
    "print(\"Intercept:\", reg2.intercept_)\n"
   ]
  },
  {
   "cell_type": "markdown",
   "metadata": {},
   "source": [
    "The first explanatory variable (Air.Flow) seems to the most significant in response to the model."
   ]
  },
  {
   "cell_type": "code",
   "execution_count": null,
   "metadata": {},
   "outputs": [],
   "source": []
  }
 ],
 "metadata": {
  "kernelspec": {
   "display_name": "Python 3 (ipykernel)",
   "language": "python",
   "name": "python3"
  },
  "language_info": {
   "codemirror_mode": {
    "name": "ipython",
    "version": 3
   },
   "file_extension": ".py",
   "mimetype": "text/x-python",
   "name": "python",
   "nbconvert_exporter": "python",
   "pygments_lexer": "ipython3",
   "version": "3.9.13"
  }
 },
 "nbformat": 4,
 "nbformat_minor": 2
}
