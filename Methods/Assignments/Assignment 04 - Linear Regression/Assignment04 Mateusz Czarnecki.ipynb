{
 "cells": [
  {
   "cell_type": "code",
   "execution_count": 1,
   "id": "302e2759",
   "metadata": {},
   "outputs": [],
   "source": [
    "import numpy as np\n",
    "import pandas as pd\n",
    "import matplotlib.pyplot as plt\n",
    "from sklearn.linear_model import LinearRegression\n",
    "from sklearn.preprocessing import StandardScaler\n",
    "from sklearn.metrics import mean_squared_error, r2_score\n",
    "from sklearn.model_selection import train_test_split"
   ]
  },
  {
   "cell_type": "code",
   "execution_count": 2,
   "id": "ce650c0c",
   "metadata": {},
   "outputs": [
    {
     "data": {
      "text/html": [
       "<div>\n",
       "<style scoped>\n",
       "    .dataframe tbody tr th:only-of-type {\n",
       "        vertical-align: middle;\n",
       "    }\n",
       "\n",
       "    .dataframe tbody tr th {\n",
       "        vertical-align: top;\n",
       "    }\n",
       "\n",
       "    .dataframe thead th {\n",
       "        text-align: right;\n",
       "    }\n",
       "</style>\n",
       "<table border=\"1\" class=\"dataframe\">\n",
       "  <thead>\n",
       "    <tr style=\"text-align: right;\">\n",
       "      <th></th>\n",
       "      <th>fixed acidity</th>\n",
       "      <th>volatile acidity</th>\n",
       "      <th>citric acid</th>\n",
       "      <th>residual sugar</th>\n",
       "      <th>chlorides</th>\n",
       "      <th>free sulfur dioxide</th>\n",
       "      <th>total sulfur dioxide</th>\n",
       "      <th>density</th>\n",
       "      <th>pH</th>\n",
       "      <th>sulphates</th>\n",
       "      <th>alcohol</th>\n",
       "      <th>quality</th>\n",
       "    </tr>\n",
       "  </thead>\n",
       "  <tbody>\n",
       "    <tr>\n",
       "      <th>0</th>\n",
       "      <td>7.4</td>\n",
       "      <td>0.700</td>\n",
       "      <td>0.00</td>\n",
       "      <td>1.9</td>\n",
       "      <td>0.076</td>\n",
       "      <td>11.0</td>\n",
       "      <td>34.0</td>\n",
       "      <td>0.99780</td>\n",
       "      <td>3.51</td>\n",
       "      <td>0.56</td>\n",
       "      <td>9.4</td>\n",
       "      <td>5</td>\n",
       "    </tr>\n",
       "    <tr>\n",
       "      <th>1</th>\n",
       "      <td>7.8</td>\n",
       "      <td>0.880</td>\n",
       "      <td>0.00</td>\n",
       "      <td>2.6</td>\n",
       "      <td>0.098</td>\n",
       "      <td>25.0</td>\n",
       "      <td>67.0</td>\n",
       "      <td>0.99680</td>\n",
       "      <td>3.20</td>\n",
       "      <td>0.68</td>\n",
       "      <td>9.8</td>\n",
       "      <td>5</td>\n",
       "    </tr>\n",
       "    <tr>\n",
       "      <th>2</th>\n",
       "      <td>7.8</td>\n",
       "      <td>0.760</td>\n",
       "      <td>0.04</td>\n",
       "      <td>2.3</td>\n",
       "      <td>0.092</td>\n",
       "      <td>15.0</td>\n",
       "      <td>54.0</td>\n",
       "      <td>0.99700</td>\n",
       "      <td>3.26</td>\n",
       "      <td>0.65</td>\n",
       "      <td>9.8</td>\n",
       "      <td>5</td>\n",
       "    </tr>\n",
       "    <tr>\n",
       "      <th>3</th>\n",
       "      <td>11.2</td>\n",
       "      <td>0.280</td>\n",
       "      <td>0.56</td>\n",
       "      <td>1.9</td>\n",
       "      <td>0.075</td>\n",
       "      <td>17.0</td>\n",
       "      <td>60.0</td>\n",
       "      <td>0.99800</td>\n",
       "      <td>3.16</td>\n",
       "      <td>0.58</td>\n",
       "      <td>9.8</td>\n",
       "      <td>6</td>\n",
       "    </tr>\n",
       "    <tr>\n",
       "      <th>4</th>\n",
       "      <td>7.4</td>\n",
       "      <td>0.700</td>\n",
       "      <td>0.00</td>\n",
       "      <td>1.9</td>\n",
       "      <td>0.076</td>\n",
       "      <td>11.0</td>\n",
       "      <td>34.0</td>\n",
       "      <td>0.99780</td>\n",
       "      <td>3.51</td>\n",
       "      <td>0.56</td>\n",
       "      <td>9.4</td>\n",
       "      <td>5</td>\n",
       "    </tr>\n",
       "    <tr>\n",
       "      <th>...</th>\n",
       "      <td>...</td>\n",
       "      <td>...</td>\n",
       "      <td>...</td>\n",
       "      <td>...</td>\n",
       "      <td>...</td>\n",
       "      <td>...</td>\n",
       "      <td>...</td>\n",
       "      <td>...</td>\n",
       "      <td>...</td>\n",
       "      <td>...</td>\n",
       "      <td>...</td>\n",
       "      <td>...</td>\n",
       "    </tr>\n",
       "    <tr>\n",
       "      <th>1594</th>\n",
       "      <td>6.2</td>\n",
       "      <td>0.600</td>\n",
       "      <td>0.08</td>\n",
       "      <td>2.0</td>\n",
       "      <td>0.090</td>\n",
       "      <td>32.0</td>\n",
       "      <td>44.0</td>\n",
       "      <td>0.99490</td>\n",
       "      <td>3.45</td>\n",
       "      <td>0.58</td>\n",
       "      <td>10.5</td>\n",
       "      <td>5</td>\n",
       "    </tr>\n",
       "    <tr>\n",
       "      <th>1595</th>\n",
       "      <td>5.9</td>\n",
       "      <td>0.550</td>\n",
       "      <td>0.10</td>\n",
       "      <td>2.2</td>\n",
       "      <td>0.062</td>\n",
       "      <td>39.0</td>\n",
       "      <td>51.0</td>\n",
       "      <td>0.99512</td>\n",
       "      <td>3.52</td>\n",
       "      <td>0.76</td>\n",
       "      <td>11.2</td>\n",
       "      <td>6</td>\n",
       "    </tr>\n",
       "    <tr>\n",
       "      <th>1596</th>\n",
       "      <td>6.3</td>\n",
       "      <td>0.510</td>\n",
       "      <td>0.13</td>\n",
       "      <td>2.3</td>\n",
       "      <td>0.076</td>\n",
       "      <td>29.0</td>\n",
       "      <td>40.0</td>\n",
       "      <td>0.99574</td>\n",
       "      <td>3.42</td>\n",
       "      <td>0.75</td>\n",
       "      <td>11.0</td>\n",
       "      <td>6</td>\n",
       "    </tr>\n",
       "    <tr>\n",
       "      <th>1597</th>\n",
       "      <td>5.9</td>\n",
       "      <td>0.645</td>\n",
       "      <td>0.12</td>\n",
       "      <td>2.0</td>\n",
       "      <td>0.075</td>\n",
       "      <td>32.0</td>\n",
       "      <td>44.0</td>\n",
       "      <td>0.99547</td>\n",
       "      <td>3.57</td>\n",
       "      <td>0.71</td>\n",
       "      <td>10.2</td>\n",
       "      <td>5</td>\n",
       "    </tr>\n",
       "    <tr>\n",
       "      <th>1598</th>\n",
       "      <td>6.0</td>\n",
       "      <td>0.310</td>\n",
       "      <td>0.47</td>\n",
       "      <td>3.6</td>\n",
       "      <td>0.067</td>\n",
       "      <td>18.0</td>\n",
       "      <td>42.0</td>\n",
       "      <td>0.99549</td>\n",
       "      <td>3.39</td>\n",
       "      <td>0.66</td>\n",
       "      <td>11.0</td>\n",
       "      <td>6</td>\n",
       "    </tr>\n",
       "  </tbody>\n",
       "</table>\n",
       "<p>1599 rows × 12 columns</p>\n",
       "</div>"
      ],
      "text/plain": [
       "      fixed acidity  volatile acidity  citric acid  residual sugar  chlorides  \\\n",
       "0               7.4             0.700         0.00             1.9      0.076   \n",
       "1               7.8             0.880         0.00             2.6      0.098   \n",
       "2               7.8             0.760         0.04             2.3      0.092   \n",
       "3              11.2             0.280         0.56             1.9      0.075   \n",
       "4               7.4             0.700         0.00             1.9      0.076   \n",
       "...             ...               ...          ...             ...        ...   \n",
       "1594            6.2             0.600         0.08             2.0      0.090   \n",
       "1595            5.9             0.550         0.10             2.2      0.062   \n",
       "1596            6.3             0.510         0.13             2.3      0.076   \n",
       "1597            5.9             0.645         0.12             2.0      0.075   \n",
       "1598            6.0             0.310         0.47             3.6      0.067   \n",
       "\n",
       "      free sulfur dioxide  total sulfur dioxide  density    pH  sulphates  \\\n",
       "0                    11.0                  34.0  0.99780  3.51       0.56   \n",
       "1                    25.0                  67.0  0.99680  3.20       0.68   \n",
       "2                    15.0                  54.0  0.99700  3.26       0.65   \n",
       "3                    17.0                  60.0  0.99800  3.16       0.58   \n",
       "4                    11.0                  34.0  0.99780  3.51       0.56   \n",
       "...                   ...                   ...      ...   ...        ...   \n",
       "1594                 32.0                  44.0  0.99490  3.45       0.58   \n",
       "1595                 39.0                  51.0  0.99512  3.52       0.76   \n",
       "1596                 29.0                  40.0  0.99574  3.42       0.75   \n",
       "1597                 32.0                  44.0  0.99547  3.57       0.71   \n",
       "1598                 18.0                  42.0  0.99549  3.39       0.66   \n",
       "\n",
       "      alcohol  quality  \n",
       "0         9.4        5  \n",
       "1         9.8        5  \n",
       "2         9.8        5  \n",
       "3         9.8        6  \n",
       "4         9.4        5  \n",
       "...       ...      ...  \n",
       "1594     10.5        5  \n",
       "1595     11.2        6  \n",
       "1596     11.0        6  \n",
       "1597     10.2        5  \n",
       "1598     11.0        6  \n",
       "\n",
       "[1599 rows x 12 columns]"
      ]
     },
     "execution_count": 2,
     "metadata": {},
     "output_type": "execute_result"
    }
   ],
   "source": [
    "df = pd.read_csv('data/winequality-red.csv', delimiter=';')\n",
    "df"
   ]
  },
  {
   "cell_type": "code",
   "execution_count": 3,
   "id": "9f2c97c1",
   "metadata": {},
   "outputs": [
    {
     "data": {
      "text/plain": [
       "fixed acidity           0\n",
       "volatile acidity        0\n",
       "citric acid             0\n",
       "residual sugar          0\n",
       "chlorides               0\n",
       "free sulfur dioxide     0\n",
       "total sulfur dioxide    0\n",
       "density                 0\n",
       "pH                      0\n",
       "sulphates               0\n",
       "alcohol                 0\n",
       "quality                 0\n",
       "dtype: int64"
      ]
     },
     "execution_count": 3,
     "metadata": {},
     "output_type": "execute_result"
    }
   ],
   "source": [
    "df.isnull().sum()"
   ]
  },
  {
   "cell_type": "code",
   "execution_count": 4,
   "id": "7a6a72cd",
   "metadata": {},
   "outputs": [],
   "source": [
    "explanatory = df.drop(['quality'], axis=1)\n",
    "response = df['quality']"
   ]
  },
  {
   "cell_type": "code",
   "execution_count": 5,
   "id": "36ed2e72",
   "metadata": {},
   "outputs": [
    {
     "name": "stdout",
     "output_type": "stream",
     "text": [
      "Coefficients: [ 2.49905527e-02 -1.08359026e+00 -1.82563948e-01  1.63312698e-02\n",
      " -1.87422516e+00  4.36133331e-03 -3.26457970e-03 -1.78811638e+01\n",
      " -4.13653144e-01  9.16334413e-01  2.76197699e-01]\n",
      "Intercept: 21.96520844944861\n"
     ]
    }
   ],
   "source": [
    "model_1 = LinearRegression()\n",
    "model_1.fit(explanatory, response)\n",
    "\n",
    "print(\"Coefficients:\" ,model_1.coef_)\n",
    "print(\"Intercept:\", model_1.intercept_)"
   ]
  },
  {
   "cell_type": "markdown",
   "id": "972209b5",
   "metadata": {},
   "source": [
    "### 1 | What is the regression equation for estimating your chosen trait values?"
   ]
  },
  {
   "cell_type": "markdown",
   "id": "25cac2e0",
   "metadata": {},
   "source": [
    "Here is the regression equation estimating the wine quality based on the explanatory values given in the dataset."
   ]
  },
  {
   "cell_type": "code",
   "execution_count": 6,
   "id": "69202efd",
   "metadata": {},
   "outputs": [
    {
     "name": "stdout",
     "output_type": "stream",
     "text": [
      "Regression equation: \n",
      "\n",
      "y = 0.024990552671673386 * fixed acidity + -1.0835902586934338 * volatile acidity + -0.18256394841071436 * citric acid + 0.01633126976547357 * residual sugar + -1.8742251580992 * chlorides + 0.0043613333090971595 * free sulfur dioxide + -0.00326457970306826 * total sulfur dioxide + -17.881163832496053 * density + -0.4136531438217594 * pH + 0.9163344127211337 * sulphates + 0.27619769922688836 * alcohol + 21.96520844944861\n"
     ]
    }
   ],
   "source": [
    "coefficients = model_1.coef_\n",
    "intercept = model_1.intercept_\n",
    "variables = explanatory.columns.values\n",
    "\n",
    "y_formula = \"y = \"\n",
    "for i in range(len(variables)):\n",
    "    y_formula += f'{coefficients[i]} * {variables[i]} + '\n",
    "y_formula += (f'{intercept}')\n",
    "\n",
    "print(\"Regression equation: \\n\")\n",
    "print(y_formula)"
   ]
  },
  {
   "cell_type": "markdown",
   "id": "51b12f9c",
   "metadata": {},
   "source": [
    "### 2 | What are the five most useful variables for estimating the trait values?"
   ]
  },
  {
   "cell_type": "markdown",
   "id": "e92c8ea7",
   "metadata": {},
   "source": [
    "To check which variables are the most useful for estaming the trait values, we need to create a model for the **standardized** data."
   ]
  },
  {
   "cell_type": "code",
   "execution_count": 7,
   "id": "ad77c29b",
   "metadata": {},
   "outputs": [],
   "source": [
    "scaler = StandardScaler()"
   ]
  },
  {
   "cell_type": "code",
   "execution_count": 8,
   "id": "2de2ceb7",
   "metadata": {},
   "outputs": [
    {
     "name": "stdout",
     "output_type": "stream",
     "text": [
      "Scaled coefficients\n",
      "\n",
      "[ 0.05387891 -0.24026089 -0.0440379   0.02851261 -0.1092302   0.05649078\n",
      " -0.13297854 -0.04178926 -0.07907982  0.1923365   0.36447012]\n",
      "\n",
      "\n",
      "Variables with scaled coefficients:\n",
      "\n",
      "fixed acidity: 0.053878907625478444\n",
      "volatile acidity: -0.2402608885361477\n",
      "citric acid: -0.044037903181794874\n",
      "residual sugar: 0.02851261372308979\n",
      "chlorides: -0.10923020208618073\n",
      "free sulfur dioxide: 0.05649078427955011\n",
      "total sulfur dioxide: -0.13297854442459806\n",
      "density: -0.04178925795703392\n",
      "pH: -0.07907982079145662\n",
      "sulphates: 0.1923364988227657\n",
      "alcohol: 0.3644701245054776\n"
     ]
    }
   ],
   "source": [
    "scaled_data = scaler.fit_transform(df)\n",
    "df_2 = pd.DataFrame(scaled_data, columns = df.columns)\n",
    "explanatory_2 = df_2.drop(['quality'], axis=1)\n",
    "response_2 = df_2['quality']\n",
    "\n",
    "model_2 = LinearRegression()\n",
    "model_2.fit(explanatory_2, response_2)\n",
    "\n",
    "coefficients_2 = model_2.coef_\n",
    "print(\"Scaled coefficients\\n\")\n",
    "print(coefficients_2)\n",
    "\n",
    "variables_coef = dict(zip(explanatory_2.columns.values, coefficients_2))\n",
    "print(\"\\n\\nVariables with scaled coefficients:\\n\")\n",
    "for variable, coef in variables_coef.items():\n",
    "    print(f'{variable}:', coef)"
   ]
  },
  {
   "cell_type": "markdown",
   "id": "6f5f5de7",
   "metadata": {},
   "source": [
    "The most useful variables are the ones, whose coefficients have the highest absolute value. The variables, with the highest absolute coeffiecent values are:\n",
    "1. **alcohol** (0.36447012)\n",
    "2. **volatile acidity** (-0.24026089)\n",
    "3. **sulphates** (0.1923365)\n",
    "4. **total sulfur dioxide** (-0.13297854)\n",
    "5. **chlorides** (-0.1092302)"
   ]
  },
  {
   "cell_type": "markdown",
   "id": "56839c63",
   "metadata": {},
   "source": [
    "### 3 | Provide a validation-based error estimate for your model."
   ]
  },
  {
   "cell_type": "markdown",
   "id": "28baf8d6",
   "metadata": {},
   "source": [
    "In order to get more reasonable error estimation results, we're going to once again create a not standardized model."
   ]
  },
  {
   "cell_type": "code",
   "execution_count": 9,
   "id": "43b33e60",
   "metadata": {},
   "outputs": [],
   "source": [
    "explanatory_test = explanatory.iloc[:320, :]\n",
    "explanatory_train = explanatory.iloc[320:, :]\n",
    "\n",
    "response_test = response[:320]\n",
    "response_train = response[320:]"
   ]
  },
  {
   "cell_type": "code",
   "execution_count": 10,
   "id": "dead800c",
   "metadata": {},
   "outputs": [
    {
     "name": "stdout",
     "output_type": "stream",
     "text": [
      "explanatory train:  (1279, 11)\n",
      "explanatory test:  (320, 11)\n",
      "response train:  (1279,)\n",
      "response test:  (320,)\n"
     ]
    }
   ],
   "source": [
    "print(\"explanatory train: \", explanatory_train.shape)\n",
    "print(\"explanatory test: \", explanatory_test.shape)\n",
    "print(\"response train: \", response_train.shape)\n",
    "print(\"response test: \", response_test.shape)"
   ]
  },
  {
   "cell_type": "code",
   "execution_count": 11,
   "id": "62e50f56",
   "metadata": {},
   "outputs": [],
   "source": [
    "model_3 = LinearRegression()\n",
    "model_3.fit(explanatory_train, response_train)\n",
    "response_pred = model_3.predict(explanatory_test)"
   ]
  },
  {
   "cell_type": "code",
   "execution_count": 12,
   "id": "c45fa7e1",
   "metadata": {},
   "outputs": [
    {
     "name": "stdout",
     "output_type": "stream",
     "text": [
      "MSE =  0.44538803080880707\n",
      "R2s =  0.13200870975141166\n"
     ]
    }
   ],
   "source": [
    "mse = mean_squared_error(response_test, response_pred)\n",
    "r2s = r2_score(response_test, response_pred) \n",
    "print(\"MSE = \", mse)\n",
    "print(\"R2s = \", r2s)"
   ]
  },
  {
   "cell_type": "code",
   "execution_count": 13,
   "id": "00c3d4d0",
   "metadata": {},
   "outputs": [
    {
     "data": {
      "text/html": [
       "<div>\n",
       "<style scoped>\n",
       "    .dataframe tbody tr th:only-of-type {\n",
       "        vertical-align: middle;\n",
       "    }\n",
       "\n",
       "    .dataframe tbody tr th {\n",
       "        vertical-align: top;\n",
       "    }\n",
       "\n",
       "    .dataframe thead th {\n",
       "        text-align: right;\n",
       "    }\n",
       "</style>\n",
       "<table border=\"1\" class=\"dataframe\">\n",
       "  <thead>\n",
       "    <tr style=\"text-align: right;\">\n",
       "      <th></th>\n",
       "      <th>observed</th>\n",
       "      <th>predicted</th>\n",
       "      <th>residual</th>\n",
       "    </tr>\n",
       "  </thead>\n",
       "  <tbody>\n",
       "    <tr>\n",
       "      <th>0</th>\n",
       "      <td>5</td>\n",
       "      <td>4.957905</td>\n",
       "      <td>0.042095</td>\n",
       "    </tr>\n",
       "    <tr>\n",
       "      <th>1</th>\n",
       "      <td>5</td>\n",
       "      <td>5.219208</td>\n",
       "      <td>-0.219208</td>\n",
       "    </tr>\n",
       "    <tr>\n",
       "      <th>2</th>\n",
       "      <td>5</td>\n",
       "      <td>5.252630</td>\n",
       "      <td>-0.252630</td>\n",
       "    </tr>\n",
       "    <tr>\n",
       "      <th>3</th>\n",
       "      <td>6</td>\n",
       "      <td>5.613709</td>\n",
       "      <td>0.386291</td>\n",
       "    </tr>\n",
       "    <tr>\n",
       "      <th>4</th>\n",
       "      <td>5</td>\n",
       "      <td>4.957905</td>\n",
       "      <td>0.042095</td>\n",
       "    </tr>\n",
       "  </tbody>\n",
       "</table>\n",
       "</div>"
      ],
      "text/plain": [
       "   observed  predicted  residual\n",
       "0         5   4.957905  0.042095\n",
       "1         5   5.219208 -0.219208\n",
       "2         5   5.252630 -0.252630\n",
       "3         6   5.613709  0.386291\n",
       "4         5   4.957905  0.042095"
      ]
     },
     "execution_count": 13,
     "metadata": {},
     "output_type": "execute_result"
    }
   ],
   "source": [
    "df2 = pd.concat([pd.Series(response_test), pd.Series(response_pred), pd.Series(response_test-response_pred)], axis=1)\n",
    "df2.columns=['observed','predicted','residual']\n",
    "df2.head()"
   ]
  },
  {
   "cell_type": "code",
   "execution_count": 14,
   "id": "6a826f2b",
   "metadata": {},
   "outputs": [
    {
     "data": {
      "text/plain": [
       "<Figure size 640x480 with 0 Axes>"
      ]
     },
     "metadata": {},
     "output_type": "display_data"
    },
    {
     "data": {
      "image/png": "[encoded data removed]",
      "text/plain": [
       "<Figure size 640x480 with 1 Axes>"
      ]
     },
     "metadata": {},
     "output_type": "display_data"
    }
   ],
   "source": [
    "plt.figure()\n",
    "df2.plot.scatter(x='observed', y='predicted')\n",
    "plt.plot(response_pred, response_pred, color='blue', linewidth=1)\n",
    "plt.show()"
   ]
  },
  {
   "cell_type": "code",
   "execution_count": 15,
   "id": "7f5b7781",
   "metadata": {},
   "outputs": [
    {
     "data": {
      "text/plain": [
       "<Figure size 640x480 with 0 Axes>"
      ]
     },
     "metadata": {},
     "output_type": "display_data"
    },
    {
     "data": {
      "image/png": "[encoded data removed]",
      "text/plain": [
       "<Figure size 640x480 with 1 Axes>"
      ]
     },
     "metadata": {},
     "output_type": "display_data"
    }
   ],
   "source": [
    "plt.figure()\n",
    "df2.plot.scatter(x='observed', y='residual')\n",
    "plt.plot([0,45], [0,0], color='black', linewidth=1)\n",
    "plt.show()"
   ]
  }
 ],
 "metadata": {
  "kernelspec": {
   "display_name": "Python 3 (ipykernel)",
   "language": "python",
   "name": "python3"
  },
  "language_info": {
   "codemirror_mode": {
    "name": "ipython",
    "version": 3
   },
   "file_extension": ".py",
   "mimetype": "text/x-python",
   "name": "python",
   "nbconvert_exporter": "python",
   "pygments_lexer": "ipython3",
   "version": "3.9.13"
  }
 },
 "nbformat": 4,
 "nbformat_minor": 5
}
