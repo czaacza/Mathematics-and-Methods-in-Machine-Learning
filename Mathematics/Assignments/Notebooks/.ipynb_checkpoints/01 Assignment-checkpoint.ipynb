{
 "cells": [
  {
   "cell_type": "markdown",
   "id": "7a6c3df2",
   "metadata": {},
   "source": [
    "# Python Exercises 1\n",
    "## Mateusz Czarnecki\n",
    "## Mathematics and Methods in Machine Learning and Neural Networks"
   ]
  },
  {
   "cell_type": "markdown",
   "id": "5fdc9271",
   "metadata": {},
   "source": [
    "### 1"
   ]
  },
  {
   "cell_type": "code",
   "execution_count": 1,
   "id": "04d10108",
   "metadata": {},
   "outputs": [],
   "source": [
    "import numpy as np\n",
    "import numpy.linalg as la\n",
    "import matplotlib.pyplot as plt"
   ]
  },
  {
   "cell_type": "code",
   "execution_count": 2,
   "id": "1451210f",
   "metadata": {
    "scrolled": true
   },
   "outputs": [
    {
     "name": "stdout",
     "output_type": "stream",
     "text": [
      "a)\n",
      " [27]\n"
     ]
    }
   ],
   "source": [
    "# a)\n",
    "A = np.array([3,6])\n",
    "B = np.array([[5],[2]])\n",
    "\n",
    "print('a)\\n', A.dot(B))"
   ]
  },
  {
   "cell_type": "code",
   "execution_count": 3,
   "id": "07a9de8e",
   "metadata": {},
   "outputs": [
    {
     "name": "stdout",
     "output_type": "stream",
     "text": [
      "b)\n",
      " A.dot(B) is not definded\n"
     ]
    }
   ],
   "source": [
    "# b)\n",
    "A = np.array([[5],[2]])\n",
    "B = np.array([3, 6])\n",
    "\n",
    "print('b)\\n A.dot(B) is not definded')"
   ]
  },
  {
   "cell_type": "code",
   "execution_count": 4,
   "id": "9ac21dc5",
   "metadata": {},
   "outputs": [
    {
     "name": "stdout",
     "output_type": "stream",
     "text": [
      "c)\n",
      "cannot multiply - matrices have incompatible dimensions\n"
     ]
    }
   ],
   "source": [
    "# c)\n",
    "A = np.array([[5],[2]])\n",
    "B = np.array([[3], [6]])\n",
    "\n",
    "print('c)\\ncannot multiply - matrices have incompatible dimensions')"
   ]
  },
  {
   "cell_type": "code",
   "execution_count": 5,
   "id": "483c806d",
   "metadata": {},
   "outputs": [
    {
     "name": "stdout",
     "output_type": "stream",
     "text": [
      "d)\n",
      " [[16]\n",
      " [42]]\n"
     ]
    }
   ],
   "source": [
    "# d)\n",
    "A = np.array([[1, 2],[3, 5]])\n",
    "B = np.array([[4], [6]])\n",
    "\n",
    "print('d)\\n', A.dot(B))"
   ]
  },
  {
   "cell_type": "code",
   "execution_count": 6,
   "id": "beea6770",
   "metadata": {},
   "outputs": [
    {
     "name": "stdout",
     "output_type": "stream",
     "text": [
      "e)\n",
      " [22 38]\n"
     ]
    }
   ],
   "source": [
    "# e)\n",
    "A = np.array([4, 6])\n",
    "B = np.array([[1, 2],[3, 5]])\n",
    "\n",
    "print('e)\\n', A.dot(B))"
   ]
  },
  {
   "cell_type": "code",
   "execution_count": 7,
   "id": "203fe422",
   "metadata": {},
   "outputs": [
    {
     "name": "stdout",
     "output_type": "stream",
     "text": [
      "f)\n",
      " [[316]]\n"
     ]
    }
   ],
   "source": [
    "# f)\n",
    "A = np.array([[4], [6]])\n",
    "B = np.array([[1, 2],[3, 5]])\n",
    "C = np.array([[4],[6]])\n",
    "\n",
    "print('f)\\n',np.transpose(A).dot(B).dot(C))\n"
   ]
  },
  {
   "cell_type": "markdown",
   "id": "96eda491",
   "metadata": {},
   "source": [
    "### 2"
   ]
  },
  {
   "cell_type": "code",
   "execution_count": 8,
   "id": "d8a051a9",
   "metadata": {},
   "outputs": [
    {
     "name": "stdout",
     "output_type": "stream",
     "text": [
      "Matrix A:\n",
      " [[1 0]\n",
      " [0 2]\n",
      " [3 0]]\n",
      "\n",
      "Matrix B:\n",
      " [[0 4]\n",
      " [0 5]\n",
      " [6 0]]\n",
      "\n",
      "a)\n",
      "cannot multiply - matrices have incompatible dimensions\n",
      "\n",
      "b)\n",
      " [[ 0  0]\n",
      " [ 0 10]\n",
      " [18  0]]\n",
      "\n",
      "c)\n",
      " [[18  4]\n",
      " [ 0 10]]\n",
      "\n",
      "d)\n",
      " [[ 0  0  6]\n",
      " [ 8 10  0]\n",
      " [ 0  0 18]]\n",
      "\n",
      "e)\n",
      " [[10  0]\n",
      " [ 0 20]\n",
      " [30  0]]\n",
      "\n",
      "f)\n",
      " [[11 10]\n",
      " [10 12]\n",
      " [13 10]]\n"
     ]
    }
   ],
   "source": [
    "A = np.array([[1,0],[0,2],[3,0]])\n",
    "B = np.array([[0,4],[0,5],[6,0]])\n",
    "print('Matrix A:\\n', A)\n",
    "print('\\nMatrix B:\\n', B)\n",
    "\n",
    "\n",
    "## a)\n",
    "print('\\na)\\ncannot multiply - matrices have incompatible dimensions')\n",
    "\n",
    "## b)\n",
    "print('\\nb)\\n', np.multiply(A,B))\n",
    "\n",
    "## c)\n",
    "print('\\nc)\\n', np.transpose(A).dot(B))\n",
    "\n",
    "## d)\n",
    "print('\\nd)\\n', A.dot(np.transpose(B)))\n",
    "\n",
    "## e)\n",
    "print('\\ne)\\n', 10*A)\n",
    "\n",
    "## f)\n",
    "print('\\nf)\\n', A + 10)\n",
    "\n"
   ]
  },
  {
   "cell_type": "code",
   "execution_count": 11,
   "id": "6ebafa15",
   "metadata": {},
   "outputs": [
    {
     "data": {
      "text/plain": [
       "[<matplotlib.lines.Line2D at 0x7fa780bfaf40>]"
      ]
     },
     "execution_count": 11,
     "metadata": {},
     "output_type": "execute_result"
    },
    {
     "data": {
      "image/png": "[encoded data removed]",
      "text/plain": [
       "<Figure size 640x480 with 1 Axes>"
      ]
     },
     "metadata": {},
     "output_type": "display_data"
    }
   ],
   "source": [
    "x = np.linspace(-10, 10, 100000)\n",
    "g = 1 / (1+ (np.exp(x) ** x))\n",
    "plt.plot(g, x)"
   ]
  },
  {
   "cell_type": "code",
   "execution_count": null,
   "id": "7f93025c",
   "metadata": {},
   "outputs": [],
   "source": []
  }
 ],
 "metadata": {
  "kernelspec": {
   "display_name": "Python 3 (ipykernel)",
   "language": "python",
   "name": "python3"
  },
  "language_info": {
   "codemirror_mode": {
    "name": "ipython",
    "version": 3
   },
   "file_extension": ".py",
   "mimetype": "text/x-python",
   "name": "python",
   "nbconvert_exporter": "python",
   "pygments_lexer": "ipython3",
   "version": "3.9.13"
  }
 },
 "nbformat": 4,
 "nbformat_minor": 5
}
