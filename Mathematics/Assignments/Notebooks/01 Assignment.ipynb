{
 "cells": [
  {
   "cell_type": "markdown",
   "id": "7a6c3df2",
   "metadata": {},
   "source": [
    "# Python Exercises 1\n",
    "## Mateusz Czarnecki\n",
    "## Mathematics and Methods in Machine Learning and Neural Networks"
   ]
  },
  {
   "cell_type": "markdown",
   "id": "5fdc9271",
   "metadata": {},
   "source": [
    "### 1"
   ]
  },
  {
   "cell_type": "code",
   "execution_count": 1,
   "id": "04d10108",
   "metadata": {},
   "outputs": [],
   "source": [
    "import numpy as np\n",
    "import numpy.linalg as la\n",
    "import matplotlib.pyplot as plt"
   ]
  },
  {
   "cell_type": "code",
   "execution_count": 2,
   "id": "1451210f",
   "metadata": {
    "scrolled": false
   },
   "outputs": [
    {
     "name": "stdout",
     "output_type": "stream",
     "text": [
      "a)\n",
      " [27]\n"
     ]
    }
   ],
   "source": [
    "# a)\n",
    "A = np.array([3,6])\n",
    "B = np.array([[5],[2]])\n",
    "\n",
    "print('a)\\n', A.dot(B))"
   ]
  },
  {
   "cell_type": "markdown",
   "id": "1eb5d0af",
   "metadata": {},
   "source": []
  },
  {
   "cell_type": "code",
   "execution_count": 3,
   "id": "07a9de8e",
   "metadata": {},
   "outputs": [
    {
     "name": "stdout",
     "output_type": "stream",
     "text": [
      "b)\n",
      " [[15 30]\n",
      " [ 6 12]]\n"
     ]
    }
   ],
   "source": [
    "# b)\n",
    "A = np.array([[5],[2]])\n",
    "B = np.array([3, 6]).reshape(1,-1)\n",
    "\n",
    "print('b)\\n', A.dot(B))"
   ]
  },
  {
   "cell_type": "markdown",
   "id": "deadc30c",
   "metadata": {},
   "source": []
  },
  {
   "cell_type": "code",
   "execution_count": 4,
   "id": "9ac21dc5",
   "metadata": {},
   "outputs": [
    {
     "name": "stdout",
     "output_type": "stream",
     "text": [
      "c)\n",
      "cannot multiply - matrices have incompatible dimensions\n"
     ]
    }
   ],
   "source": [
    "# c)\n",
    "A = np.array([[5],[2]])\n",
    "B = np.array([[3], [6]])\n",
    "\n",
    "print('c)\\ncannot multiply - matrices have incompatible dimensions')"
   ]
  },
  {
   "cell_type": "markdown",
   "id": "3ef47578",
   "metadata": {},
   "source": []
  },
  {
   "cell_type": "code",
   "execution_count": 5,
   "id": "483c806d",
   "metadata": {},
   "outputs": [
    {
     "name": "stdout",
     "output_type": "stream",
     "text": [
      "d)\n",
      " [[16]\n",
      " [42]]\n"
     ]
    }
   ],
   "source": [
    "# d)\n",
    "A = np.array([[1, 2],[3, 5]])\n",
    "B = np.array([[4], [6]])\n",
    "\n",
    "print('d)\\n', A.dot(B))"
   ]
  },
  {
   "cell_type": "markdown",
   "id": "ca962aec",
   "metadata": {},
   "source": []
  },
  {
   "cell_type": "code",
   "execution_count": 6,
   "id": "beea6770",
   "metadata": {},
   "outputs": [
    {
     "name": "stdout",
     "output_type": "stream",
     "text": [
      "e)\n",
      " [22 38]\n"
     ]
    }
   ],
   "source": [
    "# e)\n",
    "A = np.array([4, 6])\n",
    "B = np.array([[1, 2],[3, 5]])\n",
    "\n",
    "print('e)\\n', A.dot(B))"
   ]
  },
  {
   "cell_type": "markdown",
   "id": "f2619a20",
   "metadata": {},
   "source": []
  },
  {
   "cell_type": "code",
   "execution_count": 7,
   "id": "203fe422",
   "metadata": {},
   "outputs": [
    {
     "name": "stdout",
     "output_type": "stream",
     "text": [
      "f)\n",
      " [[316]]\n"
     ]
    }
   ],
   "source": [
    "# f)\n",
    "A = np.array([[4], [6]])\n",
    "B = np.array([[1, 2],[3, 5]])\n",
    "C = np.array([[4],[6]])\n",
    "\n",
    "print('f)\\n',np.transpose(A).dot(B).dot(C))\n"
   ]
  },
  {
   "cell_type": "markdown",
   "id": "96eda491",
   "metadata": {},
   "source": [
    "### 2"
   ]
  },
  {
   "cell_type": "code",
   "execution_count": 8,
   "id": "d8a051a9",
   "metadata": {},
   "outputs": [
    {
     "name": "stdout",
     "output_type": "stream",
     "text": [
      "Matrix A:\n",
      " [[1 0]\n",
      " [0 2]\n",
      " [3 0]]\n",
      "\n",
      "Matrix B:\n",
      " [[0 4]\n",
      " [0 5]\n",
      " [6 0]]\n",
      "\n",
      "a)\n",
      "cannot multiply - matrices have incompatible dimensions\n",
      "\n",
      "b)\n",
      " [[ 0  0]\n",
      " [ 0 10]\n",
      " [18  0]]\n",
      "\n",
      "c)\n",
      " [[18  4]\n",
      " [ 0 10]]\n",
      "\n",
      "d)\n",
      " [[ 0  0  6]\n",
      " [ 8 10  0]\n",
      " [ 0  0 18]]\n",
      "\n",
      "e)\n",
      " [[10  0]\n",
      " [ 0 20]\n",
      " [30  0]]\n",
      "\n",
      "f)\n",
      " [[11 10]\n",
      " [10 12]\n",
      " [13 10]]\n"
     ]
    }
   ],
   "source": [
    "A = np.array([[1,0],[0,2],[3,0]])\n",
    "B = np.array([[0,4],[0,5],[6,0]])\n",
    "print('Matrix A:\\n', A)\n",
    "print('\\nMatrix B:\\n', B)\n",
    "\n",
    "\n",
    "## a)\n",
    "print('\\na)\\ncannot multiply - matrices have incompatible dimensions')\n",
    "\n",
    "## b)\n",
    "print('\\nb)\\n', np.multiply(A,B))\n",
    "\n",
    "## c)\n",
    "print('\\nc)\\n', np.transpose(A).dot(B))\n",
    "\n",
    "## d)\n",
    "print('\\nd)\\n', A.dot(np.transpose(B)))\n",
    "\n",
    "## e)\n",
    "print('\\ne)\\n', 10*A)\n",
    "\n",
    "## f)\n",
    "print('\\nf)\\n', A + 10)\n",
    "\n"
   ]
  },
  {
   "cell_type": "markdown",
   "id": "1fb80f59",
   "metadata": {},
   "source": [
    "### 3"
   ]
  },
  {
   "cell_type": "code",
   "execution_count": 9,
   "id": "6ebafa15",
   "metadata": {},
   "outputs": [
    {
     "data": {
      "image/png": "[encoded data removed]",
      "text/plain": [
       "<Figure size 640x480 with 1 Axes>"
      ]
     },
     "metadata": {},
     "output_type": "display_data"
    }
   ],
   "source": [
    "x = np.linspace(-2, 2, 100)\n",
    "y = 1 / (1 + np.exp(x))\n",
    "\n",
    "plt.plot(x, y)\n",
    "plt.xlabel('x')\n",
    "plt.ylabel('y')\n",
    "plt.title('y = 1 / (1 + e^x)')\n",
    "plt.grid()\n",
    "plt.show()\n"
   ]
  },
  {
   "cell_type": "markdown",
   "id": "7f0ba7a4",
   "metadata": {},
   "source": [
    "### 4"
   ]
  },
  {
   "cell_type": "code",
   "execution_count": 10,
   "id": "ea9f5dd7",
   "metadata": {},
   "outputs": [
    {
     "data": {
      "image/png": "[encoded data removed]",
      "text/plain": [
       "<Figure size 640x480 with 1 Axes>"
      ]
     },
     "metadata": {},
     "output_type": "display_data"
    }
   ],
   "source": [
    "x = np.linspace(0, 5, num=1000)\n",
    "y = (x**3 + abs(x) + np.log(x + 10**(-8))) / (np.sqrt(100+x) + 0.01*x*np.exp(x))\n",
    "plt.plot(x, y)\n",
    "\n",
    "plt.xlabel('x')\n",
    "plt.ylabel('y')\n",
    "plt.grid()\n",
    "plt.show()"
   ]
  },
  {
   "cell_type": "markdown",
   "id": "ab422043",
   "metadata": {},
   "source": [
    "### 5"
   ]
  },
  {
   "cell_type": "code",
   "execution_count": 11,
   "id": "4cbba21e",
   "metadata": {},
   "outputs": [
    {
     "name": "stdout",
     "output_type": "stream",
     "text": [
      "X = \n",
      " [[2.]\n",
      " [3.]\n",
      " [1.]]\n"
     ]
    }
   ],
   "source": [
    "A = np.array([[1,2,4],[-3,1,5],[2,-4,1]])\n",
    "B = np.array([[12],[2],[-7]])\n",
    "## AX = B   | / * A^-1\n",
    "## A^-1(AX) = A^-1 * B\n",
    "## I X = A^-1 * B\n",
    "## X = A^-1 * B\n",
    "Ainv = la.inv(A)\n",
    "X = Ainv.dot(B)\n",
    "print('X = \\n', X)"
   ]
  },
  {
   "cell_type": "markdown",
   "id": "c2f3fce8",
   "metadata": {},
   "source": [
    "### 6"
   ]
  },
  {
   "cell_type": "code",
   "execution_count": 12,
   "id": "8a6231bb",
   "metadata": {},
   "outputs": [
    {
     "name": "stdout",
     "output_type": "stream",
     "text": [
      "a) A[1,1] = 2\n",
      "a) A[2,4] = -2\n",
      "a) A[4,4] = 1\n",
      "\n",
      "b) Third row: [ 4  1 -2  0  7]\n",
      "\n",
      "c)\n",
      "First column: [2 1 4 0]\n",
      "Second column: [5 0 1 3]\n",
      "Third column: [-1  0 -2  5]\n"
     ]
    }
   ],
   "source": [
    "A = np.array([[2, 5, -1, 3, 6], [1, 0, 0, -2, 0], [4, 1, -2, 0, 7], [0, 3, 5, 1, -1]])\n",
    "\n",
    "# a)\n",
    "print('a) A[1,1] =',A[0,0])\n",
    "print('a) A[2,4] =',A[1,3])\n",
    "print('a) A[4,4] =',A[3,3])\n",
    "\n",
    "# b)\n",
    "print('\\nb) Third row:', A[2])\n",
    "\n",
    "# c)\n",
    "print(\"\\nc)\\nFirst column:\", A[:, 0])\n",
    "print(\"Second column:\", A[:, 1])\n",
    "print(\"Third column:\", A[:, 2])\n",
    "\n"
   ]
  },
  {
   "cell_type": "markdown",
   "id": "43e73d03",
   "metadata": {},
   "source": [
    "### 7"
   ]
  },
  {
   "cell_type": "code",
   "execution_count": 13,
   "id": "ac2f44f7",
   "metadata": {},
   "outputs": [
    {
     "name": "stdout",
     "output_type": "stream",
     "text": [
      "C = \n",
      " [[1 0 0 4]\n",
      " [0 2 0 5]\n",
      " [3 0 6 0]]\n",
      "\n",
      "D = \n",
      " [[1 0]\n",
      " [0 2]\n",
      " [3 0]\n",
      " [0 4]\n",
      " [0 5]\n",
      " [6 0]]\n",
      "\n",
      " C reshaped as a column vector\n",
      "[[1]\n",
      " [0]\n",
      " [0]\n",
      " [4]\n",
      " [0]\n",
      " [2]\n",
      " [0]\n",
      " [5]\n",
      " [3]\n",
      " [0]\n",
      " [6]\n",
      " [0]]\n"
     ]
    }
   ],
   "source": [
    "A = np.array([[1,0],[0,2],[3,0]])\n",
    "B = np.array([[0,4],[0,5],[6,0]])\n",
    "\n",
    "C = np.concatenate((A, B), axis=1)\n",
    "D = np.concatenate((A, B), axis=0)\n",
    "\n",
    "print('C = \\n', C)\n",
    "print('\\nD = \\n', D)\n",
    "\n",
    "C_reshaped = C.reshape(-1,1)\n",
    "print('\\n C reshaped as a column vector')\n",
    "print(C_reshaped)\n"
   ]
  }
 ],
 "metadata": {
  "kernelspec": {
   "display_name": "Python 3 (ipykernel)",
   "language": "python",
   "name": "python3"
  },
  "language_info": {
   "codemirror_mode": {
    "name": "ipython",
    "version": 3
   },
   "file_extension": ".py",
   "mimetype": "text/x-python",
   "name": "python",
   "nbconvert_exporter": "python",
   "pygments_lexer": "ipython3",
   "version": "3.9.13"
  }
 },
 "nbformat": 4,
 "nbformat_minor": 5
}
