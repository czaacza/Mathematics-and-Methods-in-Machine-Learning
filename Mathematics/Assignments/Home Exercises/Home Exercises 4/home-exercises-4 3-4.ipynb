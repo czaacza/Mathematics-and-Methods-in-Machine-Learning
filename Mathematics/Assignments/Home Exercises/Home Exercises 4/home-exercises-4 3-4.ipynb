{
 "cells": [
  {
   "cell_type": "code",
   "execution_count": 6,
   "metadata": {
    "_cell_guid": "b1076dfc-b9ad-4769-8c92-a6c4dae69d19",
    "_uuid": "8f2839f25d086af736a60e9eeb907d3b93b6e0e5",
    "execution": {
     "iopub.execute_input": "2023-03-02T09:19:53.588303Z",
     "iopub.status.busy": "2023-03-02T09:19:53.587792Z",
     "iopub.status.idle": "2023-03-02T09:19:53.595920Z",
     "shell.execute_reply": "2023-03-02T09:19:53.594235Z",
     "shell.execute_reply.started": "2023-03-02T09:19:53.588264Z"
    }
   },
   "outputs": [],
   "source": [
    "import numpy as np\n",
    "import pandas as pd\n",
    "import numpy.linalg as la"
   ]
  },
  {
   "cell_type": "markdown",
   "metadata": {},
   "source": [
    "### 3"
   ]
  },
  {
   "cell_type": "code",
   "execution_count": 7,
   "metadata": {
    "execution": {
     "iopub.execute_input": "2023-03-02T09:19:53.600334Z",
     "iopub.status.busy": "2023-03-02T09:19:53.598952Z",
     "iopub.status.idle": "2023-03-02T09:19:53.610993Z",
     "shell.execute_reply": "2023-03-02T09:19:53.609054Z",
     "shell.execute_reply.started": "2023-03-02T09:19:53.600256Z"
    }
   },
   "outputs": [],
   "source": [
    "def sigmoid(z):\n",
    "    return 1 / (1 + np.exp(-z))\n",
    "\n",
    "def cost_function(theta, x, y):\n",
    "    m = len(y)\n",
    "    h = sigmoid(np.dot(X, theta))\n",
    "    J = -(1/m) * np.sum(y * np.log(h) + (1-y) * np.log(1-h))\n",
    "    grad = (1/m) * np.dot(X.T, (h-y))\n",
    "    return J, grad\n",
    "\n",
    "def gradient_descent(X, y, theta, alpha, num_iters):\n",
    "    m = len(y)\n",
    "    \n",
    "    for i in range(num_iters):\n",
    "        cost, grad = cost_function(theta, X, y)\n",
    "        theta = theta - alpha * grad\n",
    "        \n",
    "    return theta"
   ]
  },
  {
   "cell_type": "code",
   "execution_count": 8,
   "metadata": {
    "execution": {
     "iopub.execute_input": "2023-03-02T09:19:53.614170Z",
     "iopub.status.busy": "2023-03-02T09:19:53.613235Z",
     "iopub.status.idle": "2023-03-02T09:19:53.666472Z",
     "shell.execute_reply": "2023-03-02T09:19:53.665131Z",
     "shell.execute_reply.started": "2023-03-02T09:19:53.614121Z"
    }
   },
   "outputs": [
    {
     "name": "stdout",
     "output_type": "stream",
     "text": [
      "theta: [[-1.19142978]\n",
      " [ 0.28527787]]\n"
     ]
    }
   ],
   "source": [
    "X = np.array([1.1, 4.1, 2.7, 3.9, 7.1, 1.3, 9.7, 0.7, 3.4, 6.0]).reshape(-1, 1)\n",
    "y = np.array([0, 1, 0, 0, 1, 0, 1, 0, 1, 0]).reshape(-1, 1)\n",
    "\n",
    "X = np.hstack((np.ones((len(X), 1)), X))\n",
    "\n",
    "theta = np.zeros((2,1))\n",
    "alpha = 0.01\n",
    "num_iters = 1000\n",
    "theta = gradient_descent(X, y, theta, alpha, num_iters)\n",
    "print('theta:', theta)"
   ]
  },
  {
   "cell_type": "markdown",
   "metadata": {},
   "source": [
    "### 4"
   ]
  },
  {
   "cell_type": "code",
   "execution_count": 12,
   "metadata": {
    "execution": {
     "iopub.execute_input": "2023-03-02T09:20:58.392573Z",
     "iopub.status.busy": "2023-03-02T09:20:58.391954Z",
     "iopub.status.idle": "2023-03-02T09:20:58.402574Z",
     "shell.execute_reply": "2023-03-02T09:20:58.400896Z",
     "shell.execute_reply.started": "2023-03-02T09:20:58.392531Z"
    }
   },
   "outputs": [
    {
     "name": "stdout",
     "output_type": "stream",
     "text": [
      "W1:\n",
      " [[1.1 1.3 1.5]\n",
      " [0.1 2.  1.7]]\n",
      "\n",
      "W2:\n",
      " [[2.  1.3]\n",
      " [1.2 1.7]]\n",
      "\n",
      "A1:\n",
      " [[13.4]\n",
      " [12.8]]\n",
      "\n",
      "A2:\n",
      " [[43.44]\n",
      " [37.84]]\n"
     ]
    }
   ],
   "source": [
    "A0 = np.array([[3],\n",
    "               [2],\n",
    "               [5]])\n",
    "\n",
    "W1 = np.array([[1.1, 1.3, 1.5],\n",
    "               [0.1, 2.0, 1.7]\n",
    "              ])\n",
    "\n",
    "W2 = np.array([[2.0, 1.3],\n",
    "               [1.2, 1.7]\n",
    "              ])\n",
    "\n",
    "print('W1:\\n', W1)\n",
    "print('\\nW2:\\n', W2)\n",
    "\n",
    "A1 = W1.dot(A0)\n",
    "A2 = W2.dot(A1)\n",
    "\n",
    "\n",
    "print('\\nA1:\\n', A1)\n",
    "print('\\nA2:\\n', A2)"
   ]
  }
 ],
 "metadata": {
  "kernelspec": {
   "display_name": "Python 3 (ipykernel)",
   "language": "python",
   "name": "python3"
  },
  "language_info": {
   "codemirror_mode": {
    "name": "ipython",
    "version": 3
   },
   "file_extension": ".py",
   "mimetype": "text/x-python",
   "name": "python",
   "nbconvert_exporter": "python",
   "pygments_lexer": "ipython3",
   "version": "3.9.13"
  }
 },
 "nbformat": 4,
 "nbformat_minor": 4
}
